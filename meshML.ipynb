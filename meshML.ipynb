{
 "cells": [
  {
   "cell_type": "code",
   "execution_count": 10,
   "id": "44dff785",
   "metadata": {},
   "outputs": [],
   "source": [
    "from vtk import (vtkUnstructuredGridReader, vtkDataSetMapper, vtkActor,\n",
    "                 vtkRenderer, vtkRenderWindow, vtkRenderWindowInteractor)\n",
    "\n",
    "file_name = \"meshpy\\BB.BBBB.000000.vtk\"  # minimal example vtk file\n",
    "\n",
    "# Read the source file.\n",
    "reader = vtkUnstructuredGridReader()\n",
    "reader.SetFileName(file_name)\n",
    "reader.Update()  # Needed because of GetScalarRange\n",
    "output = reader.GetOutput()\n",
    "\n",
    "output_port = reader.GetOutputPort()\n",
    "scalar_range = output.GetScalarRange()\n",
    "\n",
    "# Create the mapper that corresponds the objects of the vtk file\n",
    "# into graphics elements\n",
    "mapper = vtkDataSetMapper()\n",
    "mapper.SetInputConnection(output_port)\n",
    "mapper.SetScalarRange(scalar_range)\n",
    "\n",
    "# Create the Actor\n",
    "actor = vtkActor()\n",
    "actor.SetMapper(mapper)\n",
    "\n",
    "# Create the Renderer\n",
    "renderer = vtkRenderer()\n",
    "renderer.AddActor(actor)\n",
    "renderer.SetBackground(1, 1, 1) # Set background to white\n",
    "\n",
    "# Create the RendererWindow\n",
    "renderer_window = vtkRenderWindow()\n",
    "renderer_window.AddRenderer(renderer)\n",
    "\n",
    "# Create the RendererWindowInteractor and display the vtk_file\n",
    "interactor = vtkRenderWindowInteractor()\n",
    "interactor.SetRenderWindow(renderer_window)\n",
    "interactor.Initialize()\n",
    "interactor.Start()"
   ]
  },
  {
   "cell_type": "code",
   "execution_count": 16,
   "id": "2d238202",
   "metadata": {},
   "outputs": [
    {
     "data": {
      "text/plain": [
       "0"
      ]
     },
     "execution_count": 16,
     "metadata": {},
     "output_type": "execute_result"
    }
   ],
   "source": [
    "reader.GetReadAllTensors()"
   ]
  },
  {
   "cell_type": "code",
   "execution_count": null,
   "id": "c9181c0d",
   "metadata": {},
   "outputs": [],
   "source": []
  }
 ],
 "metadata": {
  "kernelspec": {
   "display_name": "Python 3",
   "language": "python",
   "name": "python3"
  },
  "language_info": {
   "codemirror_mode": {
    "name": "ipython",
    "version": 3
   },
   "file_extension": ".py",
   "mimetype": "text/x-python",
   "name": "python",
   "nbconvert_exporter": "python",
   "pygments_lexer": "ipython3",
   "version": "3.8.8"
  }
 },
 "nbformat": 4,
 "nbformat_minor": 5
}
